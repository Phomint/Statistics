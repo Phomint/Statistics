{
 "cells": [
  {
   "cell_type": "markdown",
   "metadata": {},
   "source": [
    "# Amostra de cães para análise\n",
    "Esta análise não possui dados conclusivos, vendo que utiliza apenas um conjunto de dados pequeno, para aula de estatística."
   ]
  },
  {
   "cell_type": "code",
   "execution_count": 147,
   "metadata": {},
   "outputs": [],
   "source": [
    "# Imports e conjunto de dados\n",
    "import pandas as pd\n",
    "import numpy as np\n",
    "import matplotlib.pyplot as plt\n",
    "from math import log10, ceil\n",
    "%matplotlib inline\n",
    "\n",
    "df_dog = pd.read_excel('variaveis.xlsx')"
   ]
  },
  {
   "cell_type": "code",
   "execution_count": 148,
   "metadata": {},
   "outputs": [
    {
     "data": {
      "text/html": [
       "<div>\n",
       "<style scoped>\n",
       "    .dataframe tbody tr th:only-of-type {\n",
       "        vertical-align: middle;\n",
       "    }\n",
       "\n",
       "    .dataframe tbody tr th {\n",
       "        vertical-align: top;\n",
       "    }\n",
       "\n",
       "    .dataframe thead th {\n",
       "        text-align: right;\n",
       "    }\n",
       "</style>\n",
       "<table border=\"1\" class=\"dataframe\">\n",
       "  <thead>\n",
       "    <tr style=\"text-align: right;\">\n",
       "      <th></th>\n",
       "      <th>Sexo</th>\n",
       "      <th>Raça</th>\n",
       "      <th>peso em Kg</th>\n",
       "      <th>idade</th>\n",
       "      <th>qtd vacinas</th>\n",
       "      <th>Unnamed: 5</th>\n",
       "      <th>Unnamed: 6</th>\n",
       "      <th>Unnamed: 7</th>\n",
       "      <th>Unnamed: 8</th>\n",
       "    </tr>\n",
       "  </thead>\n",
       "  <tbody>\n",
       "    <tr>\n",
       "      <th>1</th>\n",
       "      <td>M</td>\n",
       "      <td>pinscher</td>\n",
       "      <td>7.5</td>\n",
       "      <td>12.0</td>\n",
       "      <td>1</td>\n",
       "      <td>F</td>\n",
       "      <td>24.0</td>\n",
       "      <td>NaN</td>\n",
       "      <td>17 RAÇÃS</td>\n",
       "    </tr>\n",
       "    <tr>\n",
       "      <th>2</th>\n",
       "      <td>M</td>\n",
       "      <td>rottweiller</td>\n",
       "      <td>12.0</td>\n",
       "      <td>7.0</td>\n",
       "      <td>0</td>\n",
       "      <td>M</td>\n",
       "      <td>26.0</td>\n",
       "      <td>NaN</td>\n",
       "      <td>NaN</td>\n",
       "    </tr>\n",
       "    <tr>\n",
       "      <th>3</th>\n",
       "      <td>F</td>\n",
       "      <td>pastor alemão</td>\n",
       "      <td>3.0</td>\n",
       "      <td>10.0</td>\n",
       "      <td>0</td>\n",
       "      <td>NaN</td>\n",
       "      <td>NaN</td>\n",
       "      <td>pinscher</td>\n",
       "      <td>3</td>\n",
       "    </tr>\n",
       "    <tr>\n",
       "      <th>4</th>\n",
       "      <td>F</td>\n",
       "      <td>pug</td>\n",
       "      <td>2.0</td>\n",
       "      <td>1.0</td>\n",
       "      <td>3</td>\n",
       "      <td>NaN</td>\n",
       "      <td>NaN</td>\n",
       "      <td>rottweiller</td>\n",
       "      <td>4</td>\n",
       "    </tr>\n",
       "    <tr>\n",
       "      <th>5</th>\n",
       "      <td>F</td>\n",
       "      <td>maltês</td>\n",
       "      <td>1.5</td>\n",
       "      <td>0.6</td>\n",
       "      <td>1</td>\n",
       "      <td>NaN</td>\n",
       "      <td>NaN</td>\n",
       "      <td>pastor alemão</td>\n",
       "      <td>3</td>\n",
       "    </tr>\n",
       "  </tbody>\n",
       "</table>\n",
       "</div>"
      ],
      "text/plain": [
       "  Sexo           Raça  peso em Kg  idade  qtd vacinas Unnamed: 5  Unnamed: 6  \\\n",
       "1    M       pinscher         7.5   12.0            1          F        24.0   \n",
       "2    M    rottweiller        12.0    7.0            0          M        26.0   \n",
       "3    F  pastor alemão         3.0   10.0            0        NaN         NaN   \n",
       "4    F            pug         2.0    1.0            3        NaN         NaN   \n",
       "5    F         maltês         1.5    0.6            1        NaN         NaN   \n",
       "\n",
       "      Unnamed: 7 Unnamed: 8  \n",
       "1            NaN   17 RAÇÃS  \n",
       "2            NaN        NaN  \n",
       "3       pinscher          3  \n",
       "4    rottweiller          4  \n",
       "5  pastor alemão          3  "
      ]
     },
     "execution_count": 148,
     "metadata": {},
     "output_type": "execute_result"
    }
   ],
   "source": [
    "# Verificação do conjunto de dados\n",
    "df_dog.head()"
   ]
  },
  {
   "cell_type": "markdown",
   "metadata": {},
   "source": [
    "### Limpeza do conjunto de dados"
   ]
  },
  {
   "cell_type": "code",
   "execution_count": 149,
   "metadata": {},
   "outputs": [],
   "source": [
    "df_dog.drop(['Unnamed: 5', 'Unnamed: 6', 'Unnamed: 7', 'Unnamed: 8'], axis=1, inplace=True)"
   ]
  },
  {
   "cell_type": "code",
   "execution_count": 150,
   "metadata": {},
   "outputs": [
    {
     "data": {
      "text/html": [
       "<div>\n",
       "<style scoped>\n",
       "    .dataframe tbody tr th:only-of-type {\n",
       "        vertical-align: middle;\n",
       "    }\n",
       "\n",
       "    .dataframe tbody tr th {\n",
       "        vertical-align: top;\n",
       "    }\n",
       "\n",
       "    .dataframe thead th {\n",
       "        text-align: right;\n",
       "    }\n",
       "</style>\n",
       "<table border=\"1\" class=\"dataframe\">\n",
       "  <thead>\n",
       "    <tr style=\"text-align: right;\">\n",
       "      <th></th>\n",
       "      <th>Sexo</th>\n",
       "      <th>Raça</th>\n",
       "      <th>peso em Kg</th>\n",
       "      <th>idade</th>\n",
       "      <th>qtd vacinas</th>\n",
       "    </tr>\n",
       "  </thead>\n",
       "  <tbody>\n",
       "    <tr>\n",
       "      <th>1</th>\n",
       "      <td>M</td>\n",
       "      <td>pinscher</td>\n",
       "      <td>7.5</td>\n",
       "      <td>12.0</td>\n",
       "      <td>1</td>\n",
       "    </tr>\n",
       "    <tr>\n",
       "      <th>2</th>\n",
       "      <td>M</td>\n",
       "      <td>rottweiller</td>\n",
       "      <td>12.0</td>\n",
       "      <td>7.0</td>\n",
       "      <td>0</td>\n",
       "    </tr>\n",
       "    <tr>\n",
       "      <th>3</th>\n",
       "      <td>F</td>\n",
       "      <td>pastor alemão</td>\n",
       "      <td>3.0</td>\n",
       "      <td>10.0</td>\n",
       "      <td>0</td>\n",
       "    </tr>\n",
       "    <tr>\n",
       "      <th>4</th>\n",
       "      <td>F</td>\n",
       "      <td>pug</td>\n",
       "      <td>2.0</td>\n",
       "      <td>1.0</td>\n",
       "      <td>3</td>\n",
       "    </tr>\n",
       "    <tr>\n",
       "      <th>5</th>\n",
       "      <td>F</td>\n",
       "      <td>maltês</td>\n",
       "      <td>1.5</td>\n",
       "      <td>0.6</td>\n",
       "      <td>1</td>\n",
       "    </tr>\n",
       "  </tbody>\n",
       "</table>\n",
       "</div>"
      ],
      "text/plain": [
       "  Sexo           Raça  peso em Kg  idade  qtd vacinas\n",
       "1    M       pinscher         7.5   12.0            1\n",
       "2    M    rottweiller        12.0    7.0            0\n",
       "3    F  pastor alemão         3.0   10.0            0\n",
       "4    F            pug         2.0    1.0            3\n",
       "5    F         maltês         1.5    0.6            1"
      ]
     },
     "execution_count": 150,
     "metadata": {},
     "output_type": "execute_result"
    }
   ],
   "source": [
    "df_dog.head()"
   ]
  },
  {
   "cell_type": "code",
   "execution_count": 151,
   "metadata": {},
   "outputs": [],
   "source": [
    "# Corerção das colunas\n",
    "df_dog.rename(columns= lambda x: x.strip().lower().replace(' ', '_'), inplace=True)"
   ]
  },
  {
   "cell_type": "code",
   "execution_count": 152,
   "metadata": {},
   "outputs": [
    {
     "data": {
      "text/html": [
       "<div>\n",
       "<style scoped>\n",
       "    .dataframe tbody tr th:only-of-type {\n",
       "        vertical-align: middle;\n",
       "    }\n",
       "\n",
       "    .dataframe tbody tr th {\n",
       "        vertical-align: top;\n",
       "    }\n",
       "\n",
       "    .dataframe thead th {\n",
       "        text-align: right;\n",
       "    }\n",
       "</style>\n",
       "<table border=\"1\" class=\"dataframe\">\n",
       "  <thead>\n",
       "    <tr style=\"text-align: right;\">\n",
       "      <th></th>\n",
       "      <th>sexo</th>\n",
       "      <th>raça</th>\n",
       "      <th>peso_em_kg</th>\n",
       "      <th>idade</th>\n",
       "      <th>qtd_vacinas</th>\n",
       "    </tr>\n",
       "  </thead>\n",
       "  <tbody>\n",
       "    <tr>\n",
       "      <th>1</th>\n",
       "      <td>M</td>\n",
       "      <td>pinscher</td>\n",
       "      <td>7.5</td>\n",
       "      <td>12.0</td>\n",
       "      <td>1</td>\n",
       "    </tr>\n",
       "    <tr>\n",
       "      <th>2</th>\n",
       "      <td>M</td>\n",
       "      <td>rottweiller</td>\n",
       "      <td>12.0</td>\n",
       "      <td>7.0</td>\n",
       "      <td>0</td>\n",
       "    </tr>\n",
       "    <tr>\n",
       "      <th>3</th>\n",
       "      <td>F</td>\n",
       "      <td>pastor alemão</td>\n",
       "      <td>3.0</td>\n",
       "      <td>10.0</td>\n",
       "      <td>0</td>\n",
       "    </tr>\n",
       "    <tr>\n",
       "      <th>4</th>\n",
       "      <td>F</td>\n",
       "      <td>pug</td>\n",
       "      <td>2.0</td>\n",
       "      <td>1.0</td>\n",
       "      <td>3</td>\n",
       "    </tr>\n",
       "    <tr>\n",
       "      <th>5</th>\n",
       "      <td>F</td>\n",
       "      <td>maltês</td>\n",
       "      <td>1.5</td>\n",
       "      <td>0.6</td>\n",
       "      <td>1</td>\n",
       "    </tr>\n",
       "  </tbody>\n",
       "</table>\n",
       "</div>"
      ],
      "text/plain": [
       "  sexo           raça  peso_em_kg  idade  qtd_vacinas\n",
       "1    M       pinscher         7.5   12.0            1\n",
       "2    M    rottweiller        12.0    7.0            0\n",
       "3    F  pastor alemão         3.0   10.0            0\n",
       "4    F            pug         2.0    1.0            3\n",
       "5    F         maltês         1.5    0.6            1"
      ]
     },
     "execution_count": 152,
     "metadata": {},
     "output_type": "execute_result"
    }
   ],
   "source": [
    "df_dog.head()"
   ]
  },
  {
   "cell_type": "code",
   "execution_count": 153,
   "metadata": {},
   "outputs": [
    {
     "data": {
      "text/plain": [
       "sexo           0\n",
       "raça           0\n",
       "peso_em_kg     0\n",
       "idade          0\n",
       "qtd_vacinas    0\n",
       "dtype: int64"
      ]
     },
     "execution_count": 153,
     "metadata": {},
     "output_type": "execute_result"
    }
   ],
   "source": [
    "# Verificando valores vazios\n",
    "df_dog.isnull().sum()"
   ]
  },
  {
   "cell_type": "markdown",
   "metadata": {},
   "source": [
    "# Questões importantes para análise da amostra\n",
    "- Qual o sexo mais aparente na amostra?\n",
    "- Qual raça tem maior parcela na amostra?\n",
    "- Quais raças estão acima da idade mediana?\n",
    "- Qual porte mais aparente na amostra?\n",
    "- Quantos porcento da amostra de cães não está devidamente vacinados?"
   ]
  },
  {
   "cell_type": "code",
   "execution_count": 154,
   "metadata": {},
   "outputs": [
    {
     "data": {
      "text/plain": [
       "M    26\n",
       "F    24\n",
       "Name: sexo, dtype: int64"
      ]
     },
     "execution_count": 154,
     "metadata": {},
     "output_type": "execute_result"
    }
   ],
   "source": [
    "# Valores de machos e femeas do conjunto\n",
    "sexo = df_dog['sexo'].value_counts()\n",
    "sexo"
   ]
  },
  {
   "cell_type": "code",
   "execution_count": 155,
   "metadata": {},
   "outputs": [],
   "source": [
    "size_sexo = df_dog['sexo'].count()"
   ]
  },
  {
   "cell_type": "code",
   "execution_count": 156,
   "metadata": {},
   "outputs": [],
   "source": [
    "labels = ['Macho', 'Femea']\n",
    "sizes = [(sexo[0]/size_sexo)*100, (sexo[1]/size_sexo)*100]\n",
    "colors = ['Blue', 'Red']"
   ]
  },
  {
   "cell_type": "code",
   "execution_count": 157,
   "metadata": {},
   "outputs": [
    {
     "data": {
      "image/png": "[encoded data removed]",
      "text/plain": [
       "<Figure size 432x288 with 1 Axes>"
      ]
     },
     "metadata": {},
     "output_type": "display_data"
    }
   ],
   "source": [
    "# Passando os paramêtros para geração do gráfico\n",
    "fig1, ax1 = plt.subplots()\n",
    "ax1.pie(sizes, labels=labels, colors=colors, autopct='%1.1f%%', shadow=True, startangle=90)\n",
    "ax1.axis('equal')\n",
    "\n",
    "plt.title('Porcentagem do sexo dos cachorros.')\n",
    "plt.show();"
   ]
  },
  {
   "cell_type": "markdown",
   "metadata": {},
   "source": [
    "São mais aparentes cães machos na amostra"
   ]
  },
  {
   "cell_type": "code",
   "execution_count": 158,
   "metadata": {},
   "outputs": [
    {
     "data": {
      "text/plain": [
       "pug              9\n",
       "boxer            6\n",
       "rottweiller      4\n",
       "poodlle          4\n",
       "pastor alemão    3\n",
       "fox p            3\n",
       "pinscher         3\n",
       "bulldog          3\n",
       "pequines         3\n",
       "beagle           2\n",
       "maltês           2\n",
       "chihuauhua       2\n",
       "yourkshire       2\n",
       "cão pelado       1\n",
       "salsicha         1\n",
       "shihtsu          1\n",
       "cocker           1\n",
       "Name: raça, dtype: int64"
      ]
     },
     "execution_count": 158,
     "metadata": {},
     "output_type": "execute_result"
    }
   ],
   "source": [
    "# Quantia por raça\n",
    "racas = df_dog['raça'].value_counts()\n",
    "# Valor total de registros em raças\n",
    "raca_size = df_dog['raça'].count()\n",
    "# Exibindo quantia por raça\n",
    "racas"
   ]
  },
  {
   "cell_type": "code",
   "execution_count": 159,
   "metadata": {},
   "outputs": [],
   "source": [
    "# Criando as labels para o gráfico\n",
    "labels = [raca.title() for raca in racas.index]\n",
    "# Determinando a porcentagem de cada um deles\n",
    "sizes = [(value/raca_size)*100 for value in racas.values]"
   ]
  },
  {
   "cell_type": "code",
   "execution_count": 160,
   "metadata": {},
   "outputs": [
    {
     "data": {
      "image/png": "[encoded data removed]",
      "text/plain": [
       "<Figure size 432x288 with 1 Axes>"
      ]
     },
     "metadata": {},
     "output_type": "display_data"
    }
   ],
   "source": [
    "# Gerando o gráfico\n",
    "fig1, ax1 = plt.subplots()\n",
    "ax1.pie(sizes, labels=labels, autopct='%1.0f%%', shadow=True, startangle=180)\n",
    "ax1.axis('equal')\n",
    "plt.title('Porcentagem de registros de cães.')\n",
    "plt.show();"
   ]
  },
  {
   "cell_type": "markdown",
   "metadata": {},
   "source": [
    "A raça com maior parcela na amostra é o Pug, sendo 18% da amostra."
   ]
  },
  {
   "cell_type": "code",
   "execution_count": 161,
   "metadata": {},
   "outputs": [],
   "source": [
    "# Recebendo mediana\n",
    "mediana = df_dog['idade'].median()"
   ]
  },
  {
   "cell_type": "code",
   "execution_count": 162,
   "metadata": {},
   "outputs": [],
   "source": [
    "# Selecionando apenas as raças com idade acima da mediana\n",
    "acima = df_dog.query('idade >= @mediana')"
   ]
  },
  {
   "cell_type": "code",
   "execution_count": 163,
   "metadata": {},
   "outputs": [
    {
     "data": {
      "image/png": "[encoded data removed]",
      "text/plain": [
       "<Figure size 432x288 with 1 Axes>"
      ]
     },
     "metadata": {
      "needs_background": "light"
     },
     "output_type": "display_data"
    }
   ],
   "source": [
    "# Gerando gráfico\n",
    "acima['raça'].value_counts().plot(kind='bar', title='Raças que estão acima da idade mediana')\n",
    "plt.ylabel('Quantidade');"
   ]
  },
  {
   "cell_type": "markdown",
   "metadata": {},
   "source": [
    "Estas são as raças e a quantidade de vezes em que aparecem acima da idade mediana."
   ]
  },
  {
   "cell_type": "code",
   "execution_count": 164,
   "metadata": {},
   "outputs": [],
   "source": [
    "intevalos = [0, 6, 15, 25, 45, 60]\n",
    "rotulos = ['Mini', 'Pequeno', 'Médio', 'Grande', 'Gigante']"
   ]
  },
  {
   "cell_type": "code",
   "execution_count": 165,
   "metadata": {},
   "outputs": [],
   "source": [
    "# Criando uma nova coluna e inserido os rótulos de acordo com os intervalos\n",
    "df_dog['porte'] = pd.cut(df_dog['peso_em_kg'], intevalos, labels=rotulos)"
   ]
  },
  {
   "cell_type": "code",
   "execution_count": 166,
   "metadata": {},
   "outputs": [
    {
     "data": {
      "image/png": "[encoded data removed]",
      "text/plain": [
       "<Figure size 432x288 with 1 Axes>"
      ]
     },
     "metadata": {
      "needs_background": "light"
     },
     "output_type": "display_data"
    }
   ],
   "source": [
    "# Geração de um gráfico de barras com a quantidade por porte dos cães\n",
    "df_dog['porte'].value_counts().plot(kind='bar',title='Porte dos cães');\n",
    "plt.ylabel('Quantidade');"
   ]
  },
  {
   "cell_type": "markdown",
   "metadata": {},
   "source": [
    "Na maioria dos registros temos cães de porte Mini."
   ]
  },
  {
   "cell_type": "code",
   "execution_count": 167,
   "metadata": {},
   "outputs": [],
   "source": [
    "total = df_dog['qtd_vacinas'].count()\n",
    "sem_vacina = df_dog['qtd_vacinas'].value_counts()[0]\n",
    "resto = total - sem_vacina"
   ]
  },
  {
   "cell_type": "code",
   "execution_count": 168,
   "metadata": {},
   "outputs": [],
   "source": [
    "labels = ['Não Vacinados', 'Vacinados']\n",
    "sizes = [(sem_vacina/total)*100, (resto/total)*100]\n",
    "explode = (0.1, 0)"
   ]
  },
  {
   "cell_type": "code",
   "execution_count": 169,
   "metadata": {},
   "outputs": [
    {
     "data": {
      "image/png": "[encoded data removed]",
      "text/plain": [
       "<Figure size 432x288 with 1 Axes>"
      ]
     },
     "metadata": {},
     "output_type": "display_data"
    }
   ],
   "source": [
    "# Gerando o gráfico\n",
    "fig1, ax1 = plt.subplots()\n",
    "ax1.pie(sizes, explode=explode, labels=labels, autopct='%1.0f%%', shadow=True, startangle=90)\n",
    "ax1.axis('equal')\n",
    "\n",
    "plt.title('Gráfico de vacinas')\n",
    "plt.show();"
   ]
  },
  {
   "cell_type": "markdown",
   "metadata": {},
   "source": [
    "20% dos cães não são devidamente vacidos."
   ]
  },
  {
   "cell_type": "markdown",
   "metadata": {},
   "source": [
    "## Distribuição de frequência\n",
    "### Tipos de frequência\n",
    "- Frequência absoluta $(f_i)$: número total de elementos em cada classe\n",
    "- Frequência relativa $(fr_i)$: razão entre cada valor da frequência absoluta e o total de observações \n",
    "$$\n",
    "fr_i = \\frac {f_i}{\\sum f_i}\n",
    "$$\n",
    "- Frequência acumulada $(F_i)$: soma das frequências simples de uma classe com a frequência simples da classe anterior\n",
    "- Frequência acumulada relativa $(Fr_i)$: frequência acumulada da classe dividida pelo total de observações\n",
    "$$\n",
    "Fr_i = \\frac {F_i}{\\sum f_i}\n",
    "$$\n",
    "### Critério de Sturges\n",
    "- Número de classes (linhas)\n",
    "\n",
    "$\n",
    "K = 1+3,33\\log^n\n",
    "$\n",
    "- Amplitude das classes\n",
    "\n",
    "$\n",
    "h = \\frac {Xmax-Xmin}{K}\n",
    "$"
   ]
  },
  {
   "cell_type": "code",
   "execution_count": 170,
   "metadata": {},
   "outputs": [],
   "source": [
    "# Descobrindo o número de classes (linhas)\n",
    "size_weight = df_dog['peso_em_kg'].shape[0]\n",
    "linhas = ceil(1+3.33*log10(size_weight))"
   ]
  },
  {
   "cell_type": "code",
   "execution_count": 171,
   "metadata": {},
   "outputs": [],
   "source": [
    "# Descobrindo a amplitude\n",
    "amplitude = ceil((np.max(df_dog['peso_em_kg']) - np.min(df_dog['peso_em_kg'])) / linhas)"
   ]
  },
  {
   "cell_type": "code",
   "execution_count": 172,
   "metadata": {},
   "outputs": [],
   "source": [
    "pesos = ['{},5 → {},5'.format(peso, peso+amplitude) for peso in range(1, 58, amplitude)]"
   ]
  },
  {
   "cell_type": "code",
   "execution_count": 173,
   "metadata": {},
   "outputs": [],
   "source": [
    "# Inserindo os intervalos no dataframe\n",
    "df_frequencia_pesos = pd.DataFrame()\n",
    "df_frequencia_pesos['xi'] = pesos"
   ]
  },
  {
   "cell_type": "code",
   "execution_count": 174,
   "metadata": {},
   "outputs": [],
   "source": [
    "# Calculando a frequencia e inserindo no dataframe\n",
    "frequencias = []\n",
    "for valor in range(1, 58, amplitude):    \n",
    "    frequencia = sum((df_dog['peso_em_kg'] >= valor+0.5) & (df_dog['peso_em_kg'] < valor+amplitude+0.5))\n",
    "    frequencias.append(frequencia)\n",
    "df_frequencia_pesos['fi'] = frequencias"
   ]
  },
  {
   "cell_type": "code",
   "execution_count": 175,
   "metadata": {},
   "outputs": [],
   "source": [
    "# Calculando as frequencias em porcentagem e inserindo no dataframe\n",
    "df_frequencia_pesos['fri'] = [(fri/size_weight)*100 for fri in frequencias]"
   ]
  },
  {
   "cell_type": "code",
   "execution_count": 176,
   "metadata": {},
   "outputs": [],
   "source": [
    "# Calculando a frequencia relativa e inserindo no dataframe\n",
    "soma = 0\n",
    "FI = []\n",
    "for fi in frequencias:\n",
    "    soma=soma+fi\n",
    "    FI.append(soma)\n",
    "df_frequencia_pesos['Fi'] = FI"
   ]
  },
  {
   "cell_type": "code",
   "execution_count": 177,
   "metadata": {},
   "outputs": [],
   "source": [
    "# Calculando a frequencia relativa em porcentagem\n",
    "df_frequencia_pesos['Fri'] = [(fri/size_weight)*100 for fri in FI]"
   ]
  },
  {
   "cell_type": "markdown",
   "metadata": {},
   "source": [
    "### Distribuição de frequência dos pesos dos cães"
   ]
  },
  {
   "cell_type": "code",
   "execution_count": 178,
   "metadata": {},
   "outputs": [
    {
     "data": {
      "text/html": [
       "<div>\n",
       "<style scoped>\n",
       "    .dataframe tbody tr th:only-of-type {\n",
       "        vertical-align: middle;\n",
       "    }\n",
       "\n",
       "    .dataframe tbody tr th {\n",
       "        vertical-align: top;\n",
       "    }\n",
       "\n",
       "    .dataframe thead th {\n",
       "        text-align: right;\n",
       "    }\n",
       "</style>\n",
       "<table border=\"1\" class=\"dataframe\">\n",
       "  <thead>\n",
       "    <tr style=\"text-align: right;\">\n",
       "      <th></th>\n",
       "      <th>xi</th>\n",
       "      <th>fi</th>\n",
       "      <th>fri</th>\n",
       "      <th>Fi</th>\n",
       "      <th>Fri</th>\n",
       "    </tr>\n",
       "  </thead>\n",
       "  <tbody>\n",
       "    <tr>\n",
       "      <th>0</th>\n",
       "      <td>1,5 → 10,5</td>\n",
       "      <td>41</td>\n",
       "      <td>82.0</td>\n",
       "      <td>41</td>\n",
       "      <td>82.0</td>\n",
       "    </tr>\n",
       "    <tr>\n",
       "      <th>1</th>\n",
       "      <td>10,5 → 19,5</td>\n",
       "      <td>4</td>\n",
       "      <td>8.0</td>\n",
       "      <td>45</td>\n",
       "      <td>90.0</td>\n",
       "    </tr>\n",
       "    <tr>\n",
       "      <th>2</th>\n",
       "      <td>19,5 → 28,5</td>\n",
       "      <td>2</td>\n",
       "      <td>4.0</td>\n",
       "      <td>47</td>\n",
       "      <td>94.0</td>\n",
       "    </tr>\n",
       "    <tr>\n",
       "      <th>3</th>\n",
       "      <td>28,5 → 37,5</td>\n",
       "      <td>2</td>\n",
       "      <td>4.0</td>\n",
       "      <td>49</td>\n",
       "      <td>98.0</td>\n",
       "    </tr>\n",
       "    <tr>\n",
       "      <th>4</th>\n",
       "      <td>37,5 → 46,5</td>\n",
       "      <td>0</td>\n",
       "      <td>0.0</td>\n",
       "      <td>49</td>\n",
       "      <td>98.0</td>\n",
       "    </tr>\n",
       "    <tr>\n",
       "      <th>5</th>\n",
       "      <td>46,5 → 55,5</td>\n",
       "      <td>0</td>\n",
       "      <td>0.0</td>\n",
       "      <td>49</td>\n",
       "      <td>98.0</td>\n",
       "    </tr>\n",
       "    <tr>\n",
       "      <th>6</th>\n",
       "      <td>55,5 → 64,5</td>\n",
       "      <td>1</td>\n",
       "      <td>2.0</td>\n",
       "      <td>50</td>\n",
       "      <td>100.0</td>\n",
       "    </tr>\n",
       "  </tbody>\n",
       "</table>\n",
       "</div>"
      ],
      "text/plain": [
       "            xi  fi   fri  Fi    Fri\n",
       "0   1,5 → 10,5  41  82.0  41   82.0\n",
       "1  10,5 → 19,5   4   8.0  45   90.0\n",
       "2  19,5 → 28,5   2   4.0  47   94.0\n",
       "3  28,5 → 37,5   2   4.0  49   98.0\n",
       "4  37,5 → 46,5   0   0.0  49   98.0\n",
       "5  46,5 → 55,5   0   0.0  49   98.0\n",
       "6  55,5 → 64,5   1   2.0  50  100.0"
      ]
     },
     "execution_count": 178,
     "metadata": {},
     "output_type": "execute_result"
    }
   ],
   "source": [
    "df_frequencia_pesos"
   ]
  },
  {
   "cell_type": "markdown",
   "metadata": {},
   "source": [
    "#### Análise\n",
    "- 4 cães ou seja 8%, apresentam peso maior de 10,5kg e menor que 19,5kg\n",
    "- 45 cães ou seja 90%, apresentam peso maior de 1,5kg e menor que 19,5kg"
   ]
  },
  {
   "cell_type": "code",
   "execution_count": 179,
   "metadata": {},
   "outputs": [],
   "source": [
    "# Descobrindo a amplitude\n",
    "amplitude = ceil((np.max(df_dog['idade']) - np.min(df_dog['idade'])) / linhas)"
   ]
  },
  {
   "cell_type": "code",
   "execution_count": 180,
   "metadata": {},
   "outputs": [],
   "source": [
    "idades = ['{},6 → {},6'.format(idade, idade+amplitude) for idade in range(0, 14, amplitude)]"
   ]
  },
  {
   "cell_type": "code",
   "execution_count": 181,
   "metadata": {},
   "outputs": [],
   "source": [
    "df_frequencia_idades = pd.DataFrame()\n",
    "df_frequencia_idades['xi'] = idades"
   ]
  },
  {
   "cell_type": "code",
   "execution_count": 182,
   "metadata": {},
   "outputs": [],
   "source": [
    "# Calculando a frequencia e inserindo no dataframe\n",
    "frequencias = []\n",
    "for valor in range(0, 14, amplitude):    \n",
    "    frequencia = sum((df_dog['idade'] >= valor+0.6) & (df_dog['idade'] < valor+amplitude+0.6))\n",
    "    frequencias.append(frequencia)\n",
    "df_frequencia_idades['fi'] = frequencias"
   ]
  },
  {
   "cell_type": "code",
   "execution_count": 183,
   "metadata": {},
   "outputs": [],
   "source": [
    "# Calculando as frequencias em porcentagem e inserindo no dataframe\n",
    "df_frequencia_idades['fri'] = [(fri/size_weight)*100 for fri in frequencias]"
   ]
  },
  {
   "cell_type": "code",
   "execution_count": 184,
   "metadata": {},
   "outputs": [],
   "source": [
    "# Calculando a frequencia relativa e inserindo no dataframe\n",
    "soma = 0\n",
    "FI = []\n",
    "for fi in frequencias:\n",
    "    soma=soma+fi\n",
    "    FI.append(soma)\n",
    "df_frequencia_idades['Fi'] = FI"
   ]
  },
  {
   "cell_type": "code",
   "execution_count": 185,
   "metadata": {},
   "outputs": [],
   "source": [
    "# Calculando a frequencia relativa em porcentagem\n",
    "df_frequencia_idades['Fri'] = [(fri/size_weight)*100 for fri in FI]"
   ]
  },
  {
   "cell_type": "markdown",
   "metadata": {},
   "source": [
    "### Distribuição de frequência das idades dos cães"
   ]
  },
  {
   "cell_type": "code",
   "execution_count": 186,
   "metadata": {},
   "outputs": [
    {
     "data": {
      "text/html": [
       "<div>\n",
       "<style scoped>\n",
       "    .dataframe tbody tr th:only-of-type {\n",
       "        vertical-align: middle;\n",
       "    }\n",
       "\n",
       "    .dataframe tbody tr th {\n",
       "        vertical-align: top;\n",
       "    }\n",
       "\n",
       "    .dataframe thead th {\n",
       "        text-align: right;\n",
       "    }\n",
       "</style>\n",
       "<table border=\"1\" class=\"dataframe\">\n",
       "  <thead>\n",
       "    <tr style=\"text-align: right;\">\n",
       "      <th></th>\n",
       "      <th>xi</th>\n",
       "      <th>fi</th>\n",
       "      <th>fri</th>\n",
       "      <th>Fi</th>\n",
       "      <th>Fri</th>\n",
       "    </tr>\n",
       "  </thead>\n",
       "  <tbody>\n",
       "    <tr>\n",
       "      <th>0</th>\n",
       "      <td>0,6 → 2,6</td>\n",
       "      <td>15</td>\n",
       "      <td>30.0</td>\n",
       "      <td>15</td>\n",
       "      <td>30.0</td>\n",
       "    </tr>\n",
       "    <tr>\n",
       "      <th>1</th>\n",
       "      <td>2,6 → 4,6</td>\n",
       "      <td>12</td>\n",
       "      <td>24.0</td>\n",
       "      <td>27</td>\n",
       "      <td>54.0</td>\n",
       "    </tr>\n",
       "    <tr>\n",
       "      <th>2</th>\n",
       "      <td>4,6 → 6,6</td>\n",
       "      <td>5</td>\n",
       "      <td>10.0</td>\n",
       "      <td>32</td>\n",
       "      <td>64.0</td>\n",
       "    </tr>\n",
       "    <tr>\n",
       "      <th>3</th>\n",
       "      <td>6,6 → 8,6</td>\n",
       "      <td>7</td>\n",
       "      <td>14.0</td>\n",
       "      <td>39</td>\n",
       "      <td>78.0</td>\n",
       "    </tr>\n",
       "    <tr>\n",
       "      <th>4</th>\n",
       "      <td>8,6 → 10,6</td>\n",
       "      <td>7</td>\n",
       "      <td>14.0</td>\n",
       "      <td>46</td>\n",
       "      <td>92.0</td>\n",
       "    </tr>\n",
       "    <tr>\n",
       "      <th>5</th>\n",
       "      <td>10,6 → 12,6</td>\n",
       "      <td>4</td>\n",
       "      <td>8.0</td>\n",
       "      <td>50</td>\n",
       "      <td>100.0</td>\n",
       "    </tr>\n",
       "    <tr>\n",
       "      <th>6</th>\n",
       "      <td>12,6 → 14,6</td>\n",
       "      <td>0</td>\n",
       "      <td>0.0</td>\n",
       "      <td>50</td>\n",
       "      <td>100.0</td>\n",
       "    </tr>\n",
       "  </tbody>\n",
       "</table>\n",
       "</div>"
      ],
      "text/plain": [
       "            xi  fi   fri  Fi    Fri\n",
       "0    0,6 → 2,6  15  30.0  15   30.0\n",
       "1    2,6 → 4,6  12  24.0  27   54.0\n",
       "2    4,6 → 6,6   5  10.0  32   64.0\n",
       "3    6,6 → 8,6   7  14.0  39   78.0\n",
       "4   8,6 → 10,6   7  14.0  46   92.0\n",
       "5  10,6 → 12,6   4   8.0  50  100.0\n",
       "6  12,6 → 14,6   0   0.0  50  100.0"
      ]
     },
     "execution_count": 186,
     "metadata": {},
     "output_type": "execute_result"
    }
   ],
   "source": [
    "df_frequencia_idades"
   ]
  },
  {
   "cell_type": "markdown",
   "metadata": {},
   "source": [
    "#### Análise\n",
    "- 12 cães ou seja 24%, tem sua idade maior de dois anos e seis meses e menor de 4 anos e seis meses\n",
    "- 27 cães ou seja 54%, tem sua idade maior de seis meses e menor de 4 anos e seis meses"
   ]
  },
  {
   "cell_type": "markdown",
   "metadata": {},
   "source": [
    "## Medidas estatísticas\n",
    "### Medidas de tendência central\n",
    "- Média aritimética $(M_e)$\n",
    "\n",
    "$\n",
    "M_e = \\frac{\\sum x_i}{n}\n",
    "$\n",
    "- Mediana - $(M_d)$\n",
    "Caso o número de elementos no conjunto seja impar, a mediana é o elemento central, \n",
    "caso seja par a mediana é a média dos dois elementos centrais\n",
    "\n",
    "$\n",
    "M_d = \\frac{x_i + x_{i+1}}{2}\n",
    "$\n",
    "- Moda - $(M_o)$\n",
    "Representa o valor mais frequente de um conjunto de dados, sendo assim, para defini-la basta observar a frequência com que os valores aparecem.\n",
    "Um conjunto de dados é chamado de bimodal quando apresenta duas modas, ou seja, dois valores são mais frequentes."
   ]
  },
  {
   "cell_type": "markdown",
   "metadata": {},
   "source": [
    "### Medidas para peso em kilo"
   ]
  },
  {
   "cell_type": "code",
   "execution_count": 194,
   "metadata": {},
   "outputs": [
    {
     "name": "stdout",
     "output_type": "stream",
     "text": [
      "Média = 8.844\n",
      "Mediana = 6.0\n",
      "Moda = 0    6.0\n",
      "dtype: float64\n"
     ]
    }
   ],
   "source": [
    "media = df_dog['peso_em_kg'].mean()\n",
    "mediana = df_dog['peso_em_kg'].median()\n",
    "moda = df_dog['peso_em_kg'].mode()\n",
    "print('Média = {}\\nMediana = {}\\nModa = {}'.format(media, mediana, moda))"
   ]
  },
  {
   "cell_type": "markdown",
   "metadata": {},
   "source": [
    "### Medidas para idade"
   ]
  },
  {
   "cell_type": "code",
   "execution_count": 195,
   "metadata": {},
   "outputs": [
    {
     "name": "stdout",
     "output_type": "stream",
     "text": [
      "Média = 5.106\n",
      "Mediana = 4.0\n",
      "Moda = 0    2.0\n",
      "1    3.0\n",
      "dtype: float64\n"
     ]
    }
   ],
   "source": [
    "media = df_dog['idade'].mean()\n",
    "mediana = df_dog['idade'].median()\n",
    "moda = df_dog['idade'].mode()\n",
    "print('Média = {}\\nMediana = {}\\nModa = {}'.format(media, mediana, moda))"
   ]
  }
 ],
 "metadata": {
  "kernelspec": {
   "display_name": "Python 3",
   "language": "python",
   "name": "python3"
  },
  "language_info": {
   "codemirror_mode": {
    "name": "ipython",
    "version": 3
   },
   "file_extension": ".py",
   "mimetype": "text/x-python",
   "name": "python",
   "nbconvert_exporter": "python",
   "pygments_lexer": "ipython3",
   "version": "3.7.1"
  }
 },
 "nbformat": 4,
 "nbformat_minor": 2
}
